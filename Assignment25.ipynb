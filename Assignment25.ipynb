{
 "cells": [
  {
   "cell_type": "markdown",
   "id": "444693aa",
   "metadata": {},
   "source": [
    "Assignment 25"
   ]
  },
  {
   "cell_type": "markdown",
   "id": "51677e6d",
   "metadata": {},
   "source": [
    "Q1. What is Statistics?"
   ]
  },
  {
   "cell_type": "markdown",
   "id": "62851c74",
   "metadata": {},
   "source": [
    "Ans: Statistics is the science of collecting, organizing and analyzing data."
   ]
  },
  {
   "cell_type": "markdown",
   "id": "55e09798",
   "metadata": {},
   "source": [
    "Q2. Define the different types of statistics and give an example of when each type might be used."
   ]
  },
  {
   "cell_type": "markdown",
   "id": "e769e70f",
   "metadata": {},
   "source": [
    "Ans: Types of Statistics:\n",
    "     1. Descriptive statistics:\n",
    "        Descriptive statistics is a way to organise, represent and describe a collection of data using tables, graphs, and               summary measures.\n",
    "        Example: the collection of people in a city using the internet or using Television.\n",
    "     2. Inferential statistics:\n",
    "        Inferential statistics is a method that allows us to use information collected from a sample to make decisions,                 predictions or inferences from a population. It grants us permission to give statements that goes beyond the available\n",
    "        data or information.\n",
    "        Example: Deriving estimates from hypothetical research."
   ]
  },
  {
   "cell_type": "markdown",
   "id": "39e05e9b",
   "metadata": {},
   "source": [
    "Q3. What are different types of data and how do they differ from each other? Provide an example of each type of data."
   ]
  },
  {
   "cell_type": "markdown",
   "id": "85183983",
   "metadata": {},
   "source": [
    "Ans: The data is classified into majorly four categories:\n",
    "     1. Nominal data\n",
    "     2. Ordinal data\n",
    "     3. Discrete data\n",
    "     4. Continous data\n",
    "     Nominal data consists of categories or names that cannot be ordered or ranked. while, ordinal data consists of categories\n",
    "     that can be ordered or ranked. Discrete data consists of values which can be counted and has a limited number of values.\n",
    "     Continous data consists of values that can be any value (within a range).\n",
    "     Example of nominal data: Gender\n",
    "     Example of ordinal data: Serveys\n",
    "     Example of discrete data: No of bank account\n",
    "     Example of continous data: Weight"
   ]
  },
  {
   "cell_type": "markdown",
   "id": "37b37e31",
   "metadata": {},
   "source": [
    "Q4. Categorise the following datasets with respect to quantitiative and qualitiative data types:\n",
    "    (i) Grading in exam: A+, A, B+, B, C+, C, D, E\n",
    "    (ii) Colour of mangoes: yellow, green, orange, red\n",
    "    (iii) Height data of a class: [178.9,179,179.5,176,177.2,178.3,175.8,...]\n",
    "    (iv) Number of mangoes exported by a farm: [500,600,478,672,...]"
   ]
  },
  {
   "cell_type": "markdown",
   "id": "661016ab",
   "metadata": {},
   "source": [
    "Ans: (i) is qualitiative\n",
    "     (ii) is qualitiative\n",
    "     (iii) is quantiative\n",
    "     (iv) is quantitiative"
   ]
  },
  {
   "cell_type": "markdown",
   "id": "b97b3289",
   "metadata": {},
   "source": [
    "Q5. Explain the concepts of levels of measurement and give an example of a variable for each level."
   ]
  },
  {
   "cell_type": "markdown",
   "id": "383b2dd9",
   "metadata": {},
   "source": [
    "Ans: In statistics, the variables or numbers are defined and categorised using different scales of measurement. Each level of\n",
    "     measurement scale has specific properties that determine the various use of statistical analysis. There are four different\n",
    "     scales of measurement. The data can be defined as being one of the four scales.\n",
    "     Example of a variable for each level:\n",
    "     1. Nominal Scale:\n",
    "        What is your gender?\n",
    "        M- Male\n",
    "        F- Female\n",
    "        Here, the variables are used as tags, and the answer to this question should be either M or F.\n",
    "     2. Ordinal Scale:\n",
    "        Ranking of a school students- 1st, 2nd, 3rd, etc.\n",
    "     3. Interval Scale:\n",
    "        Bipoler Matrix table\n",
    "     4. Ratio Scale:\n",
    "        What is your weights in kg?\n",
    "        (i) Less than 55 kg\n",
    "        (ii) 55-75 kg\n",
    "        (iii) 76-85 kg\n",
    "        (iv) 86-95 kg\n",
    "        (v) More than 95 kg\n",
    "        "
   ]
  },
  {
   "cell_type": "markdown",
   "id": "5a7ab96d",
   "metadata": {},
   "source": [
    "Q6. Why is it important to understand the level of measurement when analyzing data? Provide an example to illustrate your           answer."
   ]
  },
  {
   "cell_type": "markdown",
   "id": "032b77ad",
   "metadata": {},
   "source": [
    "Ans: The level at which we measure a variable determines how we can analyze our data. The different levels limit which                descriptive statistics we can use to get an overall summary of our data, and which type of inferential statistics we can\n",
    "     perform on our data to support or refute our hypothesis. In many cases, our variables can be measured at different levels,\n",
    "     so we have to choose the level of measurement we will use before collection begins.\n",
    "     For example, when comparing values 1,3 and 5, the level of measurement characterizes the numerical difference between the        values. Specifically, the level of measurement indicates whether the difference is arbitary, relative, or equidistant.          Second, the level of measurement determines the appropriate statistical analyses one may perform on the data. The second        point is particularly important, as it helps researchers interpret their data correctly and avoid meaningless analysis. "
   ]
  },
  {
   "cell_type": "markdown",
   "id": "6494fb09",
   "metadata": {},
   "source": [
    "Q7. How nominal data type is different from ordinal data type."
   ]
  },
  {
   "cell_type": "markdown",
   "id": "42cc6ace",
   "metadata": {},
   "source": [
    "Ans: 1. Nominal data can  not be ordered or ranked. Whereas, ordinal data can be ordered or ranked.\n",
    "     2. Nominal data is often used to categorize observations into groups, and the groups are not comparable. Whereas, ordinal           data is often used to measure subjective attributes or opinions, where there is a natural order to the responses.\n",
    "     3. Nominal data are also called categorical data. Whereas, ordinal data are in between categorical and quantitiative data."
   ]
  },
  {
   "cell_type": "markdown",
   "id": "47d59684",
   "metadata": {},
   "source": [
    "Q8. Which type of plot can be used to display data in terms of range? "
   ]
  },
  {
   "cell_type": "markdown",
   "id": "60780333",
   "metadata": {},
   "source": [
    "Ans: Histogram plot can be used to display data in terms of range."
   ]
  },
  {
   "cell_type": "markdown",
   "id": "9f070aa4",
   "metadata": {},
   "source": [
    "Q9. Describe the difference between descriptive and inferential statistics. Give an example of each type of statistics and           explain how they are used."
   ]
  },
  {
   "cell_type": "markdown",
   "id": "d5deb145",
   "metadata": {},
   "source": [
    "Ans: 1. Descriptive statistics gives information about raw data which describes the data in some manner. Whereas, inferential\n",
    "        statistics makes inferences about the population using data drawn from the population.\n",
    "     2. Descriptive statistics helps in organizing, analyzing, and to present data in a meaningful manner. Whereas, inferential\n",
    "        statistics allows us to compare data, and make hypothesis and predictions.\n",
    "     3. Descriptive statistics is used to describe a situation. Whereas, inferential statistics is used to explain the chance of\n",
    "        occurrence of an event.\n",
    "     4. Descriptive statistics explains already known data and is limited to a sample or population having a small size.                 Whereas, inferential statistics attempts to reach the conclusion about the population.\n",
    "     Example of descriptive statistics:\n",
    "     The shooting percentage in basketball is a descriptive statistics that summerizes the performance of a player or a team.\n",
    "     This number is the number of shots made divided by the number of shots taken. For example, a player who shots 33% is making\n",
    "     approximately one shot in every three. The percentage summarizes or describes multiple discrete events.\n",
    "     Example of inferential statistics:\n",
    "     In a class, the collection of marks obtained by 50 students is the description of data. Now when we take the mean of the        data, the result is the average of marks of 50 students. If the average marks obtained by 50 students is 88 out of 100,          then we can reach to a conclusion or give a judgement on the basis of the result.\n",
    "     \n",
    "     \n",
    "     "
   ]
  },
  {
   "cell_type": "markdown",
   "id": "f26d87cc",
   "metadata": {},
   "source": [
    "Q10. What are some common measures of central tendency and variability used in statistics? Explain how each measure can be used      to describe a dataset.  "
   ]
  },
  {
   "cell_type": "markdown",
   "id": "80ef5c20",
   "metadata": {},
   "source": [
    "Ans: Common measures of central tendency:\n",
    "     1. Mean\n",
    "     2. Median\n",
    "     3. Mode\n",
    "     Common measures of variability:\n",
    "     1. Variance\n",
    "     2. Standerd deviation\n",
    "     3. Range\n",
    "     Central tendency and variance are two measures used in statistics to summarize data. Measure of central tendency shows          where the centre or middle of the data set is located, whereas, measures of variation shows the dispersion among data            values.\n",
    "     Mean: The mean represents the average value of the dataset. It can be calculated as the sum of all the values in the            dataset divided by the number of values.\n",
    "     Consider the dataset: 1,2,3,4,5,6,7,8,9,10\n",
    "     sum of the data =55\n",
    "     mean=55/10=5.5\n",
    "     Median: Median is the middle value of the dataset in which the dataset is arranged in the ascending order or in descending      order. When the dataset contains an even number of values, then the median value of the dataset can be found by taking the\n",
    "     mean of the middle two values.\n",
    "     Consider the dataset with the odd numbers of observations arranged in descending order 23,21,18,16,15,13,12,10,9,7,6,5,2.\n",
    "     Here 12 is the middle or median number that has 6 values above it and 6 values below it.\n",
    "     Consider the dataset with even numbers of observations that are arranged in descending order 40,38,35,33,32,30,29,27,26,24,\n",
    "     23,22,19, and 17\n",
    "     Here two middle values is obtained 27 and 29. The mean of these two values is 27+29/2 =28\n",
    "     Median is 28\n",
    "     Mode: The mode represents the frequently occurring value in the dataset. Sometimes the dataset may contain multiple modes\n",
    "     and in some cases, it does not contain any mode at all.\n",
    "     Consider the given dataset: 5,4,3,2,1,5,4,5\n",
    "     Since the mode represents the most common value. Hence, the most frequently repeated value in the given dataset is 5.\n",
    "     Variance: A measure of how far a set of numbers are spread out from each other. It describes how far the numbers lie from\n",
    "     the mean. To calculate this statistic, we calculate a set of squared differences between the data points and the mean, sum\n",
    "     them, and then divide by the number of observations. Here, it is the average squared difference.\n",
    "     Consider the dataset:3,5,8,1\n",
    "     The mean is 4.25. By defination of variance we get [(3-4.4)**2+(5-4.25)**2+(8-4.25)**2+(1-4.25)**2]/4=6.68\n",
    "     The variance is 6.68\n",
    "     Standerd deviation: The standerd deviation is the standerd or typical difference between each data point and the mean. When\n",
    "     the values in a dataset are grouped closer together, we have a smaller standerd deviation. On the other hand, when the          values are spread out more, the standerd deviation is larger. Standerd deviation calculated as the square root of variance.\n",
    "     In the above example in the variance, we have standerd deviation=sqrt(6.68)=2.58\n",
    "     Standerd deviation=2.58\n",
    "     Range: Range is calculated as the difference between the highest and lowest values.\n",
    "     Consider the age of 12 students: 13,13,14,14,14,15,15,15,15,16,16,16\n",
    "     Range=Highest value-Lowest value=16-13=3\n",
    "     Range=3\n",
    "     \n",
    "     \n",
    "     "
   ]
  }
 ],
 "metadata": {
  "kernelspec": {
   "display_name": "Python 3 (ipykernel)",
   "language": "python",
   "name": "python3"
  },
  "language_info": {
   "codemirror_mode": {
    "name": "ipython",
    "version": 3
   },
   "file_extension": ".py",
   "mimetype": "text/x-python",
   "name": "python",
   "nbconvert_exporter": "python",
   "pygments_lexer": "ipython3",
   "version": "3.10.9"
  }
 },
 "nbformat": 4,
 "nbformat_minor": 5
}
